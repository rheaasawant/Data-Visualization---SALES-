{
  "nbformat": 4,
  "nbformat_minor": 0,
  "metadata": {
    "kernelspec": {
      "display_name": "Python 3",
      "language": "python",
      "name": "python3"
    },
    "language_info": {
      "codemirror_mode": {
        "name": "ipython",
        "version": 3
      },
      "file_extension": ".py",
      "mimetype": "text/x-python",
      "name": "python",
      "nbconvert_exporter": "python",
      "pygments_lexer": "ipython3",
      "version": "3.7.0"
    },
    "colab": {
      "name": "VoIS project Rhea.Sawant.ipynb",
      "provenance": []
    }
  },
  "cells": [
    {
      "cell_type": "markdown",
      "metadata": {
        "id": "cAqIgDrbbqcD"
      },
      "source": [
        "# **Sales Data Pandas Mini Project**"
      ]
    },
    {
      "cell_type": "markdown",
      "metadata": {
        "id": "s8H35tkDbqcE"
      },
      "source": [
        "## **by Rhea Sawant**"
      ]
    },
    {
      "cell_type": "markdown",
      "metadata": {
        "id": "ld6a62PkbqcF"
      },
      "source": [
        "### Task 1 : Identifying and importing essential libraries"
      ]
    },
    {
      "cell_type": "code",
      "metadata": {
        "id": "fez72Xn6bqcF"
      },
      "source": [
        "import pandas as pd\n",
        "import matplotlib.pyplot as plt"
      ],
      "execution_count": 55,
      "outputs": []
    },
    {
      "cell_type": "markdown",
      "metadata": {
        "id": "QX9nIydGbqcG"
      },
      "source": [
        "### Task 2 : Data loading and overview\n",
        "* a. Load the dataset from a file\n",
        "* b. Look at the first 5 records of the data\n",
        "* c. Print the columns contained in the data\n",
        "* d. Print the attributes like count , mean , max , min, standard deviation etc\n",
        "* e. Find out are there any missing or null values in the data for all columns"
      ]
    },
    {
      "cell_type": "code",
      "metadata": {
        "colab": {
          "base_uri": "https://localhost:8080/"
        },
        "id": "vGeehF32cFux",
        "outputId": "d4c4e61a-b51c-44e1-fa3a-89be4103c286"
      },
      "source": [
        "# Mounted Google drive to be able to access the datatset uploaded in drive\n",
        "from google.colab import drive\n",
        "drive.mount('/content/drive')"
      ],
      "execution_count": 56,
      "outputs": [
        {
          "output_type": "stream",
          "text": [
            "Drive already mounted at /content/drive; to attempt to forcibly remount, call drive.mount(\"/content/drive\", force_remount=True).\n"
          ],
          "name": "stdout"
        }
      ]
    },
    {
      "cell_type": "code",
      "metadata": {
        "id": "OvQmCOd8bqcG"
      },
      "source": [
        "#a\n",
        "data = pd.read_excel('/content/drive/MyDrive/Superstore.xls')"
      ],
      "execution_count": 57,
      "outputs": []
    },
    {
      "cell_type": "code",
      "metadata": {
        "scrolled": true,
        "id": "KV2Tqn_3bqcG",
        "colab": {
          "base_uri": "https://localhost:8080/",
          "height": 534
        },
        "outputId": "a8fb2be0-6df8-46e4-9008-2fe3802fea67"
      },
      "source": [
        "#b\n",
        "new_dataset2b = data.iloc[0:5]\n",
        "new_dataset2b"
      ],
      "execution_count": 58,
      "outputs": [
        {
          "output_type": "execute_result",
          "data": {
            "text/html": [
              "<div>\n",
              "<style scoped>\n",
              "    .dataframe tbody tr th:only-of-type {\n",
              "        vertical-align: middle;\n",
              "    }\n",
              "\n",
              "    .dataframe tbody tr th {\n",
              "        vertical-align: top;\n",
              "    }\n",
              "\n",
              "    .dataframe thead th {\n",
              "        text-align: right;\n",
              "    }\n",
              "</style>\n",
              "<table border=\"1\" class=\"dataframe\">\n",
              "  <thead>\n",
              "    <tr style=\"text-align: right;\">\n",
              "      <th></th>\n",
              "      <th>Row ID</th>\n",
              "      <th>Order ID</th>\n",
              "      <th>Order Date</th>\n",
              "      <th>Ship Date</th>\n",
              "      <th>Ship Mode</th>\n",
              "      <th>Customer ID</th>\n",
              "      <th>Customer Name</th>\n",
              "      <th>Segment</th>\n",
              "      <th>Country</th>\n",
              "      <th>City</th>\n",
              "      <th>State</th>\n",
              "      <th>Postal Code</th>\n",
              "      <th>Region</th>\n",
              "      <th>Product ID</th>\n",
              "      <th>Category</th>\n",
              "      <th>Sub-Category</th>\n",
              "      <th>Product Name</th>\n",
              "      <th>Sales</th>\n",
              "      <th>Quantity</th>\n",
              "      <th>Discount</th>\n",
              "      <th>Profit</th>\n",
              "    </tr>\n",
              "  </thead>\n",
              "  <tbody>\n",
              "    <tr>\n",
              "      <th>0</th>\n",
              "      <td>1</td>\n",
              "      <td>CA-2016-152156</td>\n",
              "      <td>2016-11-08</td>\n",
              "      <td>2016-11-11</td>\n",
              "      <td>Second Class</td>\n",
              "      <td>CG-12520</td>\n",
              "      <td>Claire Gute</td>\n",
              "      <td>Consumer</td>\n",
              "      <td>United States</td>\n",
              "      <td>Henderson</td>\n",
              "      <td>Kentucky</td>\n",
              "      <td>42420</td>\n",
              "      <td>South</td>\n",
              "      <td>FUR-BO-10001798</td>\n",
              "      <td>Furniture</td>\n",
              "      <td>Bookcases</td>\n",
              "      <td>Bush Somerset Collection Bookcase</td>\n",
              "      <td>261.9600</td>\n",
              "      <td>2</td>\n",
              "      <td>0.00</td>\n",
              "      <td>41.9136</td>\n",
              "    </tr>\n",
              "    <tr>\n",
              "      <th>1</th>\n",
              "      <td>2</td>\n",
              "      <td>CA-2016-152156</td>\n",
              "      <td>2016-11-08</td>\n",
              "      <td>2016-11-11</td>\n",
              "      <td>Second Class</td>\n",
              "      <td>CG-12520</td>\n",
              "      <td>Claire Gute</td>\n",
              "      <td>Consumer</td>\n",
              "      <td>United States</td>\n",
              "      <td>Henderson</td>\n",
              "      <td>Kentucky</td>\n",
              "      <td>42420</td>\n",
              "      <td>South</td>\n",
              "      <td>FUR-CH-10000454</td>\n",
              "      <td>Furniture</td>\n",
              "      <td>Chairs</td>\n",
              "      <td>Hon Deluxe Fabric Upholstered Stacking Chairs,...</td>\n",
              "      <td>731.9400</td>\n",
              "      <td>3</td>\n",
              "      <td>0.00</td>\n",
              "      <td>219.5820</td>\n",
              "    </tr>\n",
              "    <tr>\n",
              "      <th>2</th>\n",
              "      <td>3</td>\n",
              "      <td>CA-2016-138688</td>\n",
              "      <td>2016-06-12</td>\n",
              "      <td>2016-06-16</td>\n",
              "      <td>Second Class</td>\n",
              "      <td>DV-13045</td>\n",
              "      <td>Darrin Van Huff</td>\n",
              "      <td>Corporate</td>\n",
              "      <td>United States</td>\n",
              "      <td>Los Angeles</td>\n",
              "      <td>California</td>\n",
              "      <td>90036</td>\n",
              "      <td>West</td>\n",
              "      <td>OFF-LA-10000240</td>\n",
              "      <td>Office Supplies</td>\n",
              "      <td>Labels</td>\n",
              "      <td>Self-Adhesive Address Labels for Typewriters b...</td>\n",
              "      <td>14.6200</td>\n",
              "      <td>2</td>\n",
              "      <td>0.00</td>\n",
              "      <td>6.8714</td>\n",
              "    </tr>\n",
              "    <tr>\n",
              "      <th>3</th>\n",
              "      <td>4</td>\n",
              "      <td>US-2015-108966</td>\n",
              "      <td>2015-10-11</td>\n",
              "      <td>2015-10-18</td>\n",
              "      <td>Standard Class</td>\n",
              "      <td>SO-20335</td>\n",
              "      <td>Sean O'Donnell</td>\n",
              "      <td>Consumer</td>\n",
              "      <td>United States</td>\n",
              "      <td>Fort Lauderdale</td>\n",
              "      <td>Florida</td>\n",
              "      <td>33311</td>\n",
              "      <td>South</td>\n",
              "      <td>FUR-TA-10000577</td>\n",
              "      <td>Furniture</td>\n",
              "      <td>Tables</td>\n",
              "      <td>Bretford CR4500 Series Slim Rectangular Table</td>\n",
              "      <td>957.5775</td>\n",
              "      <td>5</td>\n",
              "      <td>0.45</td>\n",
              "      <td>-383.0310</td>\n",
              "    </tr>\n",
              "    <tr>\n",
              "      <th>4</th>\n",
              "      <td>5</td>\n",
              "      <td>US-2015-108966</td>\n",
              "      <td>2015-10-11</td>\n",
              "      <td>2015-10-18</td>\n",
              "      <td>Standard Class</td>\n",
              "      <td>SO-20335</td>\n",
              "      <td>Sean O'Donnell</td>\n",
              "      <td>Consumer</td>\n",
              "      <td>United States</td>\n",
              "      <td>Fort Lauderdale</td>\n",
              "      <td>Florida</td>\n",
              "      <td>33311</td>\n",
              "      <td>South</td>\n",
              "      <td>OFF-ST-10000760</td>\n",
              "      <td>Office Supplies</td>\n",
              "      <td>Storage</td>\n",
              "      <td>Eldon Fold 'N Roll Cart System</td>\n",
              "      <td>22.3680</td>\n",
              "      <td>2</td>\n",
              "      <td>0.20</td>\n",
              "      <td>2.5164</td>\n",
              "    </tr>\n",
              "  </tbody>\n",
              "</table>\n",
              "</div>"
            ],
            "text/plain": [
              "   Row ID        Order ID Order Date  ... Quantity Discount    Profit\n",
              "0       1  CA-2016-152156 2016-11-08  ...        2     0.00   41.9136\n",
              "1       2  CA-2016-152156 2016-11-08  ...        3     0.00  219.5820\n",
              "2       3  CA-2016-138688 2016-06-12  ...        2     0.00    6.8714\n",
              "3       4  US-2015-108966 2015-10-11  ...        5     0.45 -383.0310\n",
              "4       5  US-2015-108966 2015-10-11  ...        2     0.20    2.5164\n",
              "\n",
              "[5 rows x 21 columns]"
            ]
          },
          "metadata": {
            "tags": []
          },
          "execution_count": 58
        }
      ]
    },
    {
      "cell_type": "code",
      "metadata": {
        "id": "VH3WXxF-bqcH",
        "colab": {
          "base_uri": "https://localhost:8080/"
        },
        "outputId": "83be9ad4-a1fd-4784-9963-301afc1bf745"
      },
      "source": [
        "#c\n",
        "for col_names in data.columns:\n",
        "    print(col_names)"
      ],
      "execution_count": 59,
      "outputs": [
        {
          "output_type": "stream",
          "text": [
            "Row ID\n",
            "Order ID\n",
            "Order Date\n",
            "Ship Date\n",
            "Ship Mode\n",
            "Customer ID\n",
            "Customer Name\n",
            "Segment\n",
            "Country\n",
            "City\n",
            "State\n",
            "Postal Code\n",
            "Region\n",
            "Product ID\n",
            "Category\n",
            "Sub-Category\n",
            "Product Name\n",
            "Sales\n",
            "Quantity\n",
            "Discount\n",
            "Profit\n"
          ],
          "name": "stdout"
        }
      ]
    },
    {
      "cell_type": "code",
      "metadata": {
        "id": "ChOwJSmzbqcH",
        "colab": {
          "base_uri": "https://localhost:8080/"
        },
        "outputId": "30dc9fa9-8891-4547-95e9-323b6f1cb426"
      },
      "source": [
        "#d\n",
        "print(\"Count\")\n",
        "print(data.count())"
      ],
      "execution_count": 60,
      "outputs": [
        {
          "output_type": "stream",
          "text": [
            "Count\n",
            "Row ID           9994\n",
            "Order ID         9994\n",
            "Order Date       9994\n",
            "Ship Date        9994\n",
            "Ship Mode        9994\n",
            "Customer ID      9994\n",
            "Customer Name    9994\n",
            "Segment          9994\n",
            "Country          9994\n",
            "City             9994\n",
            "State            9994\n",
            "Postal Code      9994\n",
            "Region           9994\n",
            "Product ID       9994\n",
            "Category         9994\n",
            "Sub-Category     9994\n",
            "Product Name     9994\n",
            "Sales            9994\n",
            "Quantity         9994\n",
            "Discount         9994\n",
            "Profit           9994\n",
            "dtype: int64\n"
          ],
          "name": "stdout"
        }
      ]
    },
    {
      "cell_type": "code",
      "metadata": {
        "id": "46yEFnLPbqcH",
        "colab": {
          "base_uri": "https://localhost:8080/"
        },
        "outputId": "87099b59-49e1-4b8d-bc6a-94e5c68880af"
      },
      "source": [
        "print(\"Mean\")\n",
        "print(data.mean())"
      ],
      "execution_count": 61,
      "outputs": [
        {
          "output_type": "stream",
          "text": [
            "Mean\n"
          ],
          "name": "stdout"
        },
        {
          "output_type": "stream",
          "text": [
            "/usr/local/lib/python3.7/dist-packages/ipykernel_launcher.py:2: FutureWarning: DataFrame.mean and DataFrame.median with numeric_only=None will include datetime64 and datetime64tz columns in a future version.\n",
            "  \n"
          ],
          "name": "stderr"
        },
        {
          "output_type": "stream",
          "text": [
            "Row ID          4997.500000\n",
            "Postal Code    55190.379428\n",
            "Sales            229.858001\n",
            "Quantity           3.789574\n",
            "Discount           0.156203\n",
            "Profit            28.656896\n",
            "dtype: float64\n"
          ],
          "name": "stdout"
        }
      ]
    },
    {
      "cell_type": "code",
      "metadata": {
        "id": "hjFzuQ98bqcI",
        "colab": {
          "base_uri": "https://localhost:8080/"
        },
        "outputId": "23eb733b-2b8c-4ff0-f680-e87efefbdeac"
      },
      "source": [
        "print(\"Max\")\n",
        "print(data.max())"
      ],
      "execution_count": 62,
      "outputs": [
        {
          "output_type": "stream",
          "text": [
            "Max\n",
            "Row ID                                         9994\n",
            "Order ID                             US-2017-169551\n",
            "Order Date                      2017-12-30 00:00:00\n",
            "Ship Date                       2018-01-05 00:00:00\n",
            "Ship Mode                            Standard Class\n",
            "Customer ID                                ZD-21925\n",
            "Customer Name                    Zuschuss Donatelli\n",
            "Segment                                 Home Office\n",
            "Country                               United States\n",
            "City                                           Yuma\n",
            "State                                       Wyoming\n",
            "Postal Code                                   99301\n",
            "Region                                         West\n",
            "Product ID                          TEC-PH-10004977\n",
            "Category                                 Technology\n",
            "Sub-Category                                 Tables\n",
            "Product Name     netTALK DUO VoIP Telephone Service\n",
            "Sales                                       22638.5\n",
            "Quantity                                         14\n",
            "Discount                                        0.8\n",
            "Profit                                      8399.98\n",
            "dtype: object\n"
          ],
          "name": "stdout"
        }
      ]
    },
    {
      "cell_type": "code",
      "metadata": {
        "id": "Qk8zYP3CbqcI",
        "colab": {
          "base_uri": "https://localhost:8080/"
        },
        "outputId": "cb755863-1b02-4ead-fbdd-4f724d85f4ee"
      },
      "source": [
        "print(\"Min\")\n",
        "print(data.min())"
      ],
      "execution_count": 63,
      "outputs": [
        {
          "output_type": "stream",
          "text": [
            "Min\n",
            "Row ID                                                           1\n",
            "Order ID                                            CA-2014-100006\n",
            "Order Date                                     2014-01-03 00:00:00\n",
            "Ship Date                                      2014-01-07 00:00:00\n",
            "Ship Mode                                              First Class\n",
            "Customer ID                                               AA-10315\n",
            "Customer Name                                        Aaron Bergman\n",
            "Segment                                                   Consumer\n",
            "Country                                              United States\n",
            "City                                                      Aberdeen\n",
            "State                                                      Alabama\n",
            "Postal Code                                                   1040\n",
            "Region                                                     Central\n",
            "Product ID                                         FUR-BO-10000112\n",
            "Category                                                 Furniture\n",
            "Sub-Category                                           Accessories\n",
            "Product Name     \"While you Were Out\" Message Book, One Form pe...\n",
            "Sales                                                        0.444\n",
            "Quantity                                                         1\n",
            "Discount                                                         0\n",
            "Profit                                                    -6599.98\n",
            "dtype: object\n"
          ],
          "name": "stdout"
        }
      ]
    },
    {
      "cell_type": "code",
      "metadata": {
        "id": "jgeO7spRbqcI",
        "colab": {
          "base_uri": "https://localhost:8080/"
        },
        "outputId": "b7d98f12-89b0-4140-aec8-190944c342d8"
      },
      "source": [
        "print(\"Standard Deviation\")\n",
        "print(data.std())"
      ],
      "execution_count": 64,
      "outputs": [
        {
          "output_type": "stream",
          "text": [
            "Standard Deviation\n",
            "Row ID          2885.163629\n",
            "Postal Code    32063.693350\n",
            "Sales            623.245101\n",
            "Quantity           2.225110\n",
            "Discount           0.206452\n",
            "Profit           234.260108\n",
            "dtype: float64\n"
          ],
          "name": "stdout"
        }
      ]
    },
    {
      "cell_type": "code",
      "metadata": {
        "id": "1DTtA9hgbqcI",
        "colab": {
          "base_uri": "https://localhost:8080/",
          "height": 418
        },
        "outputId": "9e98cabe-4c2c-4ce5-c447-f6fe116e1da2"
      },
      "source": [
        "#e \n",
        "data.isnull()"
      ],
      "execution_count": 65,
      "outputs": [
        {
          "output_type": "execute_result",
          "data": {
            "text/html": [
              "<div>\n",
              "<style scoped>\n",
              "    .dataframe tbody tr th:only-of-type {\n",
              "        vertical-align: middle;\n",
              "    }\n",
              "\n",
              "    .dataframe tbody tr th {\n",
              "        vertical-align: top;\n",
              "    }\n",
              "\n",
              "    .dataframe thead th {\n",
              "        text-align: right;\n",
              "    }\n",
              "</style>\n",
              "<table border=\"1\" class=\"dataframe\">\n",
              "  <thead>\n",
              "    <tr style=\"text-align: right;\">\n",
              "      <th></th>\n",
              "      <th>Row ID</th>\n",
              "      <th>Order ID</th>\n",
              "      <th>Order Date</th>\n",
              "      <th>Ship Date</th>\n",
              "      <th>Ship Mode</th>\n",
              "      <th>Customer ID</th>\n",
              "      <th>Customer Name</th>\n",
              "      <th>Segment</th>\n",
              "      <th>Country</th>\n",
              "      <th>City</th>\n",
              "      <th>State</th>\n",
              "      <th>Postal Code</th>\n",
              "      <th>Region</th>\n",
              "      <th>Product ID</th>\n",
              "      <th>Category</th>\n",
              "      <th>Sub-Category</th>\n",
              "      <th>Product Name</th>\n",
              "      <th>Sales</th>\n",
              "      <th>Quantity</th>\n",
              "      <th>Discount</th>\n",
              "      <th>Profit</th>\n",
              "    </tr>\n",
              "  </thead>\n",
              "  <tbody>\n",
              "    <tr>\n",
              "      <th>0</th>\n",
              "      <td>False</td>\n",
              "      <td>False</td>\n",
              "      <td>False</td>\n",
              "      <td>False</td>\n",
              "      <td>False</td>\n",
              "      <td>False</td>\n",
              "      <td>False</td>\n",
              "      <td>False</td>\n",
              "      <td>False</td>\n",
              "      <td>False</td>\n",
              "      <td>False</td>\n",
              "      <td>False</td>\n",
              "      <td>False</td>\n",
              "      <td>False</td>\n",
              "      <td>False</td>\n",
              "      <td>False</td>\n",
              "      <td>False</td>\n",
              "      <td>False</td>\n",
              "      <td>False</td>\n",
              "      <td>False</td>\n",
              "      <td>False</td>\n",
              "    </tr>\n",
              "    <tr>\n",
              "      <th>1</th>\n",
              "      <td>False</td>\n",
              "      <td>False</td>\n",
              "      <td>False</td>\n",
              "      <td>False</td>\n",
              "      <td>False</td>\n",
              "      <td>False</td>\n",
              "      <td>False</td>\n",
              "      <td>False</td>\n",
              "      <td>False</td>\n",
              "      <td>False</td>\n",
              "      <td>False</td>\n",
              "      <td>False</td>\n",
              "      <td>False</td>\n",
              "      <td>False</td>\n",
              "      <td>False</td>\n",
              "      <td>False</td>\n",
              "      <td>False</td>\n",
              "      <td>False</td>\n",
              "      <td>False</td>\n",
              "      <td>False</td>\n",
              "      <td>False</td>\n",
              "    </tr>\n",
              "    <tr>\n",
              "      <th>2</th>\n",
              "      <td>False</td>\n",
              "      <td>False</td>\n",
              "      <td>False</td>\n",
              "      <td>False</td>\n",
              "      <td>False</td>\n",
              "      <td>False</td>\n",
              "      <td>False</td>\n",
              "      <td>False</td>\n",
              "      <td>False</td>\n",
              "      <td>False</td>\n",
              "      <td>False</td>\n",
              "      <td>False</td>\n",
              "      <td>False</td>\n",
              "      <td>False</td>\n",
              "      <td>False</td>\n",
              "      <td>False</td>\n",
              "      <td>False</td>\n",
              "      <td>False</td>\n",
              "      <td>False</td>\n",
              "      <td>False</td>\n",
              "      <td>False</td>\n",
              "    </tr>\n",
              "    <tr>\n",
              "      <th>3</th>\n",
              "      <td>False</td>\n",
              "      <td>False</td>\n",
              "      <td>False</td>\n",
              "      <td>False</td>\n",
              "      <td>False</td>\n",
              "      <td>False</td>\n",
              "      <td>False</td>\n",
              "      <td>False</td>\n",
              "      <td>False</td>\n",
              "      <td>False</td>\n",
              "      <td>False</td>\n",
              "      <td>False</td>\n",
              "      <td>False</td>\n",
              "      <td>False</td>\n",
              "      <td>False</td>\n",
              "      <td>False</td>\n",
              "      <td>False</td>\n",
              "      <td>False</td>\n",
              "      <td>False</td>\n",
              "      <td>False</td>\n",
              "      <td>False</td>\n",
              "    </tr>\n",
              "    <tr>\n",
              "      <th>4</th>\n",
              "      <td>False</td>\n",
              "      <td>False</td>\n",
              "      <td>False</td>\n",
              "      <td>False</td>\n",
              "      <td>False</td>\n",
              "      <td>False</td>\n",
              "      <td>False</td>\n",
              "      <td>False</td>\n",
              "      <td>False</td>\n",
              "      <td>False</td>\n",
              "      <td>False</td>\n",
              "      <td>False</td>\n",
              "      <td>False</td>\n",
              "      <td>False</td>\n",
              "      <td>False</td>\n",
              "      <td>False</td>\n",
              "      <td>False</td>\n",
              "      <td>False</td>\n",
              "      <td>False</td>\n",
              "      <td>False</td>\n",
              "      <td>False</td>\n",
              "    </tr>\n",
              "    <tr>\n",
              "      <th>...</th>\n",
              "      <td>...</td>\n",
              "      <td>...</td>\n",
              "      <td>...</td>\n",
              "      <td>...</td>\n",
              "      <td>...</td>\n",
              "      <td>...</td>\n",
              "      <td>...</td>\n",
              "      <td>...</td>\n",
              "      <td>...</td>\n",
              "      <td>...</td>\n",
              "      <td>...</td>\n",
              "      <td>...</td>\n",
              "      <td>...</td>\n",
              "      <td>...</td>\n",
              "      <td>...</td>\n",
              "      <td>...</td>\n",
              "      <td>...</td>\n",
              "      <td>...</td>\n",
              "      <td>...</td>\n",
              "      <td>...</td>\n",
              "      <td>...</td>\n",
              "    </tr>\n",
              "    <tr>\n",
              "      <th>9989</th>\n",
              "      <td>False</td>\n",
              "      <td>False</td>\n",
              "      <td>False</td>\n",
              "      <td>False</td>\n",
              "      <td>False</td>\n",
              "      <td>False</td>\n",
              "      <td>False</td>\n",
              "      <td>False</td>\n",
              "      <td>False</td>\n",
              "      <td>False</td>\n",
              "      <td>False</td>\n",
              "      <td>False</td>\n",
              "      <td>False</td>\n",
              "      <td>False</td>\n",
              "      <td>False</td>\n",
              "      <td>False</td>\n",
              "      <td>False</td>\n",
              "      <td>False</td>\n",
              "      <td>False</td>\n",
              "      <td>False</td>\n",
              "      <td>False</td>\n",
              "    </tr>\n",
              "    <tr>\n",
              "      <th>9990</th>\n",
              "      <td>False</td>\n",
              "      <td>False</td>\n",
              "      <td>False</td>\n",
              "      <td>False</td>\n",
              "      <td>False</td>\n",
              "      <td>False</td>\n",
              "      <td>False</td>\n",
              "      <td>False</td>\n",
              "      <td>False</td>\n",
              "      <td>False</td>\n",
              "      <td>False</td>\n",
              "      <td>False</td>\n",
              "      <td>False</td>\n",
              "      <td>False</td>\n",
              "      <td>False</td>\n",
              "      <td>False</td>\n",
              "      <td>False</td>\n",
              "      <td>False</td>\n",
              "      <td>False</td>\n",
              "      <td>False</td>\n",
              "      <td>False</td>\n",
              "    </tr>\n",
              "    <tr>\n",
              "      <th>9991</th>\n",
              "      <td>False</td>\n",
              "      <td>False</td>\n",
              "      <td>False</td>\n",
              "      <td>False</td>\n",
              "      <td>False</td>\n",
              "      <td>False</td>\n",
              "      <td>False</td>\n",
              "      <td>False</td>\n",
              "      <td>False</td>\n",
              "      <td>False</td>\n",
              "      <td>False</td>\n",
              "      <td>False</td>\n",
              "      <td>False</td>\n",
              "      <td>False</td>\n",
              "      <td>False</td>\n",
              "      <td>False</td>\n",
              "      <td>False</td>\n",
              "      <td>False</td>\n",
              "      <td>False</td>\n",
              "      <td>False</td>\n",
              "      <td>False</td>\n",
              "    </tr>\n",
              "    <tr>\n",
              "      <th>9992</th>\n",
              "      <td>False</td>\n",
              "      <td>False</td>\n",
              "      <td>False</td>\n",
              "      <td>False</td>\n",
              "      <td>False</td>\n",
              "      <td>False</td>\n",
              "      <td>False</td>\n",
              "      <td>False</td>\n",
              "      <td>False</td>\n",
              "      <td>False</td>\n",
              "      <td>False</td>\n",
              "      <td>False</td>\n",
              "      <td>False</td>\n",
              "      <td>False</td>\n",
              "      <td>False</td>\n",
              "      <td>False</td>\n",
              "      <td>False</td>\n",
              "      <td>False</td>\n",
              "      <td>False</td>\n",
              "      <td>False</td>\n",
              "      <td>False</td>\n",
              "    </tr>\n",
              "    <tr>\n",
              "      <th>9993</th>\n",
              "      <td>False</td>\n",
              "      <td>False</td>\n",
              "      <td>False</td>\n",
              "      <td>False</td>\n",
              "      <td>False</td>\n",
              "      <td>False</td>\n",
              "      <td>False</td>\n",
              "      <td>False</td>\n",
              "      <td>False</td>\n",
              "      <td>False</td>\n",
              "      <td>False</td>\n",
              "      <td>False</td>\n",
              "      <td>False</td>\n",
              "      <td>False</td>\n",
              "      <td>False</td>\n",
              "      <td>False</td>\n",
              "      <td>False</td>\n",
              "      <td>False</td>\n",
              "      <td>False</td>\n",
              "      <td>False</td>\n",
              "      <td>False</td>\n",
              "    </tr>\n",
              "  </tbody>\n",
              "</table>\n",
              "<p>9994 rows × 21 columns</p>\n",
              "</div>"
            ],
            "text/plain": [
              "      Row ID  Order ID  Order Date  ...  Quantity  Discount  Profit\n",
              "0      False     False       False  ...     False     False   False\n",
              "1      False     False       False  ...     False     False   False\n",
              "2      False     False       False  ...     False     False   False\n",
              "3      False     False       False  ...     False     False   False\n",
              "4      False     False       False  ...     False     False   False\n",
              "...      ...       ...         ...  ...       ...       ...     ...\n",
              "9989   False     False       False  ...     False     False   False\n",
              "9990   False     False       False  ...     False     False   False\n",
              "9991   False     False       False  ...     False     False   False\n",
              "9992   False     False       False  ...     False     False   False\n",
              "9993   False     False       False  ...     False     False   False\n",
              "\n",
              "[9994 rows x 21 columns]"
            ]
          },
          "metadata": {
            "tags": []
          },
          "execution_count": 65
        }
      ]
    },
    {
      "cell_type": "markdown",
      "metadata": {
        "id": "U77XuYuhbqcI"
      },
      "source": [
        "### Task 3 : Find out the per unit price from the data\n",
        "* a.  Convert date time field into pandas time object\n",
        "* b.  Find out the price per unit from the data and create a column for it in the same data"
      ]
    },
    {
      "cell_type": "code",
      "metadata": {
        "id": "HV0--vECbqcJ"
      },
      "source": [
        "#a\n",
        "data['Order Date']= pd.to_datetime(data['Order Date'])\n",
        "data['Ship Date']= pd.to_datetime(data['Ship Date'])\n",
        "#print(data['Order Date'])\n",
        "#print(data['Ship Date'])"
      ],
      "execution_count": 66,
      "outputs": []
    },
    {
      "cell_type": "code",
      "metadata": {
        "id": "H0jontJtbqcJ",
        "colab": {
          "base_uri": "https://localhost:8080/",
          "height": 1000
        },
        "outputId": "da6b29db-3ede-4ed5-fb3a-4fc809384dd4"
      },
      "source": [
        "#b\n",
        "priceperunit = list()\n",
        "for i in range(len(data.index)):\n",
        "    priceperunit.append(data['Sales'][i]/data['Quantity'][i])\n",
        "data['price per Unit'] = priceperunit\n",
        "data['price per Unit']\n",
        "data"
      ],
      "execution_count": 67,
      "outputs": [
        {
          "output_type": "execute_result",
          "data": {
            "text/html": [
              "<div>\n",
              "<style scoped>\n",
              "    .dataframe tbody tr th:only-of-type {\n",
              "        vertical-align: middle;\n",
              "    }\n",
              "\n",
              "    .dataframe tbody tr th {\n",
              "        vertical-align: top;\n",
              "    }\n",
              "\n",
              "    .dataframe thead th {\n",
              "        text-align: right;\n",
              "    }\n",
              "</style>\n",
              "<table border=\"1\" class=\"dataframe\">\n",
              "  <thead>\n",
              "    <tr style=\"text-align: right;\">\n",
              "      <th></th>\n",
              "      <th>Row ID</th>\n",
              "      <th>Order ID</th>\n",
              "      <th>Order Date</th>\n",
              "      <th>Ship Date</th>\n",
              "      <th>Ship Mode</th>\n",
              "      <th>Customer ID</th>\n",
              "      <th>Customer Name</th>\n",
              "      <th>Segment</th>\n",
              "      <th>Country</th>\n",
              "      <th>City</th>\n",
              "      <th>State</th>\n",
              "      <th>Postal Code</th>\n",
              "      <th>Region</th>\n",
              "      <th>Product ID</th>\n",
              "      <th>Category</th>\n",
              "      <th>Sub-Category</th>\n",
              "      <th>Product Name</th>\n",
              "      <th>Sales</th>\n",
              "      <th>Quantity</th>\n",
              "      <th>Discount</th>\n",
              "      <th>Profit</th>\n",
              "      <th>price per Unit</th>\n",
              "    </tr>\n",
              "  </thead>\n",
              "  <tbody>\n",
              "    <tr>\n",
              "      <th>0</th>\n",
              "      <td>1</td>\n",
              "      <td>CA-2016-152156</td>\n",
              "      <td>2016-11-08</td>\n",
              "      <td>2016-11-11</td>\n",
              "      <td>Second Class</td>\n",
              "      <td>CG-12520</td>\n",
              "      <td>Claire Gute</td>\n",
              "      <td>Consumer</td>\n",
              "      <td>United States</td>\n",
              "      <td>Henderson</td>\n",
              "      <td>Kentucky</td>\n",
              "      <td>42420</td>\n",
              "      <td>South</td>\n",
              "      <td>FUR-BO-10001798</td>\n",
              "      <td>Furniture</td>\n",
              "      <td>Bookcases</td>\n",
              "      <td>Bush Somerset Collection Bookcase</td>\n",
              "      <td>261.9600</td>\n",
              "      <td>2</td>\n",
              "      <td>0.00</td>\n",
              "      <td>41.9136</td>\n",
              "      <td>130.9800</td>\n",
              "    </tr>\n",
              "    <tr>\n",
              "      <th>1</th>\n",
              "      <td>2</td>\n",
              "      <td>CA-2016-152156</td>\n",
              "      <td>2016-11-08</td>\n",
              "      <td>2016-11-11</td>\n",
              "      <td>Second Class</td>\n",
              "      <td>CG-12520</td>\n",
              "      <td>Claire Gute</td>\n",
              "      <td>Consumer</td>\n",
              "      <td>United States</td>\n",
              "      <td>Henderson</td>\n",
              "      <td>Kentucky</td>\n",
              "      <td>42420</td>\n",
              "      <td>South</td>\n",
              "      <td>FUR-CH-10000454</td>\n",
              "      <td>Furniture</td>\n",
              "      <td>Chairs</td>\n",
              "      <td>Hon Deluxe Fabric Upholstered Stacking Chairs,...</td>\n",
              "      <td>731.9400</td>\n",
              "      <td>3</td>\n",
              "      <td>0.00</td>\n",
              "      <td>219.5820</td>\n",
              "      <td>243.9800</td>\n",
              "    </tr>\n",
              "    <tr>\n",
              "      <th>2</th>\n",
              "      <td>3</td>\n",
              "      <td>CA-2016-138688</td>\n",
              "      <td>2016-06-12</td>\n",
              "      <td>2016-06-16</td>\n",
              "      <td>Second Class</td>\n",
              "      <td>DV-13045</td>\n",
              "      <td>Darrin Van Huff</td>\n",
              "      <td>Corporate</td>\n",
              "      <td>United States</td>\n",
              "      <td>Los Angeles</td>\n",
              "      <td>California</td>\n",
              "      <td>90036</td>\n",
              "      <td>West</td>\n",
              "      <td>OFF-LA-10000240</td>\n",
              "      <td>Office Supplies</td>\n",
              "      <td>Labels</td>\n",
              "      <td>Self-Adhesive Address Labels for Typewriters b...</td>\n",
              "      <td>14.6200</td>\n",
              "      <td>2</td>\n",
              "      <td>0.00</td>\n",
              "      <td>6.8714</td>\n",
              "      <td>7.3100</td>\n",
              "    </tr>\n",
              "    <tr>\n",
              "      <th>3</th>\n",
              "      <td>4</td>\n",
              "      <td>US-2015-108966</td>\n",
              "      <td>2015-10-11</td>\n",
              "      <td>2015-10-18</td>\n",
              "      <td>Standard Class</td>\n",
              "      <td>SO-20335</td>\n",
              "      <td>Sean O'Donnell</td>\n",
              "      <td>Consumer</td>\n",
              "      <td>United States</td>\n",
              "      <td>Fort Lauderdale</td>\n",
              "      <td>Florida</td>\n",
              "      <td>33311</td>\n",
              "      <td>South</td>\n",
              "      <td>FUR-TA-10000577</td>\n",
              "      <td>Furniture</td>\n",
              "      <td>Tables</td>\n",
              "      <td>Bretford CR4500 Series Slim Rectangular Table</td>\n",
              "      <td>957.5775</td>\n",
              "      <td>5</td>\n",
              "      <td>0.45</td>\n",
              "      <td>-383.0310</td>\n",
              "      <td>191.5155</td>\n",
              "    </tr>\n",
              "    <tr>\n",
              "      <th>4</th>\n",
              "      <td>5</td>\n",
              "      <td>US-2015-108966</td>\n",
              "      <td>2015-10-11</td>\n",
              "      <td>2015-10-18</td>\n",
              "      <td>Standard Class</td>\n",
              "      <td>SO-20335</td>\n",
              "      <td>Sean O'Donnell</td>\n",
              "      <td>Consumer</td>\n",
              "      <td>United States</td>\n",
              "      <td>Fort Lauderdale</td>\n",
              "      <td>Florida</td>\n",
              "      <td>33311</td>\n",
              "      <td>South</td>\n",
              "      <td>OFF-ST-10000760</td>\n",
              "      <td>Office Supplies</td>\n",
              "      <td>Storage</td>\n",
              "      <td>Eldon Fold 'N Roll Cart System</td>\n",
              "      <td>22.3680</td>\n",
              "      <td>2</td>\n",
              "      <td>0.20</td>\n",
              "      <td>2.5164</td>\n",
              "      <td>11.1840</td>\n",
              "    </tr>\n",
              "    <tr>\n",
              "      <th>...</th>\n",
              "      <td>...</td>\n",
              "      <td>...</td>\n",
              "      <td>...</td>\n",
              "      <td>...</td>\n",
              "      <td>...</td>\n",
              "      <td>...</td>\n",
              "      <td>...</td>\n",
              "      <td>...</td>\n",
              "      <td>...</td>\n",
              "      <td>...</td>\n",
              "      <td>...</td>\n",
              "      <td>...</td>\n",
              "      <td>...</td>\n",
              "      <td>...</td>\n",
              "      <td>...</td>\n",
              "      <td>...</td>\n",
              "      <td>...</td>\n",
              "      <td>...</td>\n",
              "      <td>...</td>\n",
              "      <td>...</td>\n",
              "      <td>...</td>\n",
              "      <td>...</td>\n",
              "    </tr>\n",
              "    <tr>\n",
              "      <th>9989</th>\n",
              "      <td>9990</td>\n",
              "      <td>CA-2014-110422</td>\n",
              "      <td>2014-01-21</td>\n",
              "      <td>2014-01-23</td>\n",
              "      <td>Second Class</td>\n",
              "      <td>TB-21400</td>\n",
              "      <td>Tom Boeckenhauer</td>\n",
              "      <td>Consumer</td>\n",
              "      <td>United States</td>\n",
              "      <td>Miami</td>\n",
              "      <td>Florida</td>\n",
              "      <td>33180</td>\n",
              "      <td>South</td>\n",
              "      <td>FUR-FU-10001889</td>\n",
              "      <td>Furniture</td>\n",
              "      <td>Furnishings</td>\n",
              "      <td>Ultra Door Pull Handle</td>\n",
              "      <td>25.2480</td>\n",
              "      <td>3</td>\n",
              "      <td>0.20</td>\n",
              "      <td>4.1028</td>\n",
              "      <td>8.4160</td>\n",
              "    </tr>\n",
              "    <tr>\n",
              "      <th>9990</th>\n",
              "      <td>9991</td>\n",
              "      <td>CA-2017-121258</td>\n",
              "      <td>2017-02-26</td>\n",
              "      <td>2017-03-03</td>\n",
              "      <td>Standard Class</td>\n",
              "      <td>DB-13060</td>\n",
              "      <td>Dave Brooks</td>\n",
              "      <td>Consumer</td>\n",
              "      <td>United States</td>\n",
              "      <td>Costa Mesa</td>\n",
              "      <td>California</td>\n",
              "      <td>92627</td>\n",
              "      <td>West</td>\n",
              "      <td>FUR-FU-10000747</td>\n",
              "      <td>Furniture</td>\n",
              "      <td>Furnishings</td>\n",
              "      <td>Tenex B1-RE Series Chair Mats for Low Pile Car...</td>\n",
              "      <td>91.9600</td>\n",
              "      <td>2</td>\n",
              "      <td>0.00</td>\n",
              "      <td>15.6332</td>\n",
              "      <td>45.9800</td>\n",
              "    </tr>\n",
              "    <tr>\n",
              "      <th>9991</th>\n",
              "      <td>9992</td>\n",
              "      <td>CA-2017-121258</td>\n",
              "      <td>2017-02-26</td>\n",
              "      <td>2017-03-03</td>\n",
              "      <td>Standard Class</td>\n",
              "      <td>DB-13060</td>\n",
              "      <td>Dave Brooks</td>\n",
              "      <td>Consumer</td>\n",
              "      <td>United States</td>\n",
              "      <td>Costa Mesa</td>\n",
              "      <td>California</td>\n",
              "      <td>92627</td>\n",
              "      <td>West</td>\n",
              "      <td>TEC-PH-10003645</td>\n",
              "      <td>Technology</td>\n",
              "      <td>Phones</td>\n",
              "      <td>Aastra 57i VoIP phone</td>\n",
              "      <td>258.5760</td>\n",
              "      <td>2</td>\n",
              "      <td>0.20</td>\n",
              "      <td>19.3932</td>\n",
              "      <td>129.2880</td>\n",
              "    </tr>\n",
              "    <tr>\n",
              "      <th>9992</th>\n",
              "      <td>9993</td>\n",
              "      <td>CA-2017-121258</td>\n",
              "      <td>2017-02-26</td>\n",
              "      <td>2017-03-03</td>\n",
              "      <td>Standard Class</td>\n",
              "      <td>DB-13060</td>\n",
              "      <td>Dave Brooks</td>\n",
              "      <td>Consumer</td>\n",
              "      <td>United States</td>\n",
              "      <td>Costa Mesa</td>\n",
              "      <td>California</td>\n",
              "      <td>92627</td>\n",
              "      <td>West</td>\n",
              "      <td>OFF-PA-10004041</td>\n",
              "      <td>Office Supplies</td>\n",
              "      <td>Paper</td>\n",
              "      <td>It's Hot Message Books with Stickers, 2 3/4\" x 5\"</td>\n",
              "      <td>29.6000</td>\n",
              "      <td>4</td>\n",
              "      <td>0.00</td>\n",
              "      <td>13.3200</td>\n",
              "      <td>7.4000</td>\n",
              "    </tr>\n",
              "    <tr>\n",
              "      <th>9993</th>\n",
              "      <td>9994</td>\n",
              "      <td>CA-2017-119914</td>\n",
              "      <td>2017-05-04</td>\n",
              "      <td>2017-05-09</td>\n",
              "      <td>Second Class</td>\n",
              "      <td>CC-12220</td>\n",
              "      <td>Chris Cortes</td>\n",
              "      <td>Consumer</td>\n",
              "      <td>United States</td>\n",
              "      <td>Westminster</td>\n",
              "      <td>California</td>\n",
              "      <td>92683</td>\n",
              "      <td>West</td>\n",
              "      <td>OFF-AP-10002684</td>\n",
              "      <td>Office Supplies</td>\n",
              "      <td>Appliances</td>\n",
              "      <td>Acco 7-Outlet Masterpiece Power Center, Wihtou...</td>\n",
              "      <td>243.1600</td>\n",
              "      <td>2</td>\n",
              "      <td>0.00</td>\n",
              "      <td>72.9480</td>\n",
              "      <td>121.5800</td>\n",
              "    </tr>\n",
              "  </tbody>\n",
              "</table>\n",
              "<p>9994 rows × 22 columns</p>\n",
              "</div>"
            ],
            "text/plain": [
              "      Row ID        Order ID Order Date  ... Discount    Profit price per Unit\n",
              "0          1  CA-2016-152156 2016-11-08  ...     0.00   41.9136       130.9800\n",
              "1          2  CA-2016-152156 2016-11-08  ...     0.00  219.5820       243.9800\n",
              "2          3  CA-2016-138688 2016-06-12  ...     0.00    6.8714         7.3100\n",
              "3          4  US-2015-108966 2015-10-11  ...     0.45 -383.0310       191.5155\n",
              "4          5  US-2015-108966 2015-10-11  ...     0.20    2.5164        11.1840\n",
              "...      ...             ...        ...  ...      ...       ...            ...\n",
              "9989    9990  CA-2014-110422 2014-01-21  ...     0.20    4.1028         8.4160\n",
              "9990    9991  CA-2017-121258 2017-02-26  ...     0.00   15.6332        45.9800\n",
              "9991    9992  CA-2017-121258 2017-02-26  ...     0.20   19.3932       129.2880\n",
              "9992    9993  CA-2017-121258 2017-02-26  ...     0.00   13.3200         7.4000\n",
              "9993    9994  CA-2017-119914 2017-05-04  ...     0.00   72.9480       121.5800\n",
              "\n",
              "[9994 rows x 22 columns]"
            ]
          },
          "metadata": {
            "tags": []
          },
          "execution_count": 67
        }
      ]
    },
    {
      "cell_type": "markdown",
      "metadata": {
        "id": "tdYKa27wbqcJ"
      },
      "source": [
        "### Task 4: Find out the monthly revenue and analyze the findings\n",
        "* a. Create a column with Year and month field only give a suitable name to it\n",
        "* b. Create a separate dataset from the data which will have two columns , one which is created in step a of this task and second the monthly sales / revenue\n",
        "* c. Plot this dataset\n",
        "* d. Describe your analysis for the monthly revenue observations."
      ]
    },
    {
      "cell_type": "code",
      "metadata": {
        "id": "iuTllTIKbqcJ"
      },
      "source": [
        "#a\n",
        "new_dataset4 = pd.DataFrame() \n",
        "new_dataset4['Sales'] = data['Sales']\n",
        "month_year = list()\n",
        "for i in range(len(data.index)):\n",
        "    if data['Order Date'][i].month < 10:\n",
        "        month = str(0) + str(data['Order Date'][i].month)\n",
        "    else:\n",
        "        month = str(data['Order Date'][i].month)\n",
        "    year = str(data['Order Date'][i].year)\n",
        "    a = year + ' ' + month\n",
        "    month_year.append(a)\n",
        "new_dataset4['Month-Year'] = month_year"
      ],
      "execution_count": 68,
      "outputs": []
    },
    {
      "cell_type": "code",
      "metadata": {
        "id": "KAaQsM8zbqcK"
      },
      "source": [
        "#b\n",
        "new_dataset4['Sales'] = data['Sales']\n",
        "new_dataset4 = new_dataset4.groupby(['Month-Year']).sum()"
      ],
      "execution_count": 69,
      "outputs": []
    },
    {
      "cell_type": "code",
      "metadata": {
        "id": "Uj6_td75bqcK",
        "colab": {
          "base_uri": "https://localhost:8080/",
          "height": 344
        },
        "outputId": "2916c13a-2108-4bbe-d273-ec1531dc2c0c"
      },
      "source": [
        "#c\n",
        "new_dataset4.plot(kind='bar', color = 'b', width = 0.5, title = 'Sales per month')"
      ],
      "execution_count": 70,
      "outputs": [
        {
          "output_type": "execute_result",
          "data": {
            "text/plain": [
              "<matplotlib.axes._subplots.AxesSubplot at 0x7f7d22e56490>"
            ]
          },
          "metadata": {
            "tags": []
          },
          "execution_count": 70
        },
        {
          "output_type": "display_data",
          "data": {
            "image/png": "[encoded data removed]",
            "text/plain": [
              "<Figure size 432x288 with 1 Axes>"
            ]
          },
          "metadata": {
            "tags": [],
            "needs_background": "light"
          }
        }
      ]
    },
    {
      "cell_type": "code",
      "metadata": {
        "id": "fEV1i6PGbqcK",
        "colab": {
          "base_uri": "https://localhost:8080/"
        },
        "outputId": "d73bdba0-9329-4bed-cfcf-6c21d939a4ad"
      },
      "source": [
        "#d\n",
        "print(\"It is seen that from January 2014 all the way to December 2017 that there is a increment in sales as time progressive and a trend can be observed in the time period.\")"
      ],
      "execution_count": 71,
      "outputs": [
        {
          "output_type": "stream",
          "text": [
            "It is seen that from January 2014 all the way to December 2017 that there is a increment in sales as time progressive and a trend can be observed in the time period.\n"
          ],
          "name": "stdout"
        }
      ]
    },
    {
      "cell_type": "markdown",
      "metadata": {
        "id": "86jQbLzebqcK"
      },
      "source": [
        "### Task 5 : Find out the yearly revenue and analyze the findings\n",
        "* a. Create a column with Year field only give a suitable name to it\n",
        "* b. Create a separate dataset from the data which will have two columns , one which is created in step a of this task and second the yearly sales / revenue\n",
        "* c. Plot this dataset\n",
        "* d. Describe your analysis for the yearly revenue observations."
      ]
    },
    {
      "cell_type": "code",
      "metadata": {
        "id": "jZMERBhGbqcL"
      },
      "source": [
        "#a\n",
        "year = list()\n",
        "for i in range(len(data.index)):\n",
        "    a = str(data['Order Date'][i].year)\n",
        "    year.append(a)\n",
        "new_dataset5 = pd.DataFrame() \n",
        "new_dataset5['Year'] = year "
      ],
      "execution_count": 72,
      "outputs": []
    },
    {
      "cell_type": "code",
      "metadata": {
        "id": "wW-XwU88bqcL",
        "colab": {
          "base_uri": "https://localhost:8080/",
          "height": 195
        },
        "outputId": "5f1b86ca-ee65-44bd-8f80-9804949ce32a"
      },
      "source": [
        "#b\n",
        "new_dataset5['Sales'] = data['Sales']\n",
        "new_dataset5 = new_dataset5.groupby(['Year']).sum()\n",
        "new_dataset5"
      ],
      "execution_count": 73,
      "outputs": [
        {
          "output_type": "execute_result",
          "data": {
            "text/html": [
              "<div>\n",
              "<style scoped>\n",
              "    .dataframe tbody tr th:only-of-type {\n",
              "        vertical-align: middle;\n",
              "    }\n",
              "\n",
              "    .dataframe tbody tr th {\n",
              "        vertical-align: top;\n",
              "    }\n",
              "\n",
              "    .dataframe thead th {\n",
              "        text-align: right;\n",
              "    }\n",
              "</style>\n",
              "<table border=\"1\" class=\"dataframe\">\n",
              "  <thead>\n",
              "    <tr style=\"text-align: right;\">\n",
              "      <th></th>\n",
              "      <th>Sales</th>\n",
              "    </tr>\n",
              "    <tr>\n",
              "      <th>Year</th>\n",
              "      <th></th>\n",
              "    </tr>\n",
              "  </thead>\n",
              "  <tbody>\n",
              "    <tr>\n",
              "      <th>2014</th>\n",
              "      <td>484247.4981</td>\n",
              "    </tr>\n",
              "    <tr>\n",
              "      <th>2015</th>\n",
              "      <td>470532.5090</td>\n",
              "    </tr>\n",
              "    <tr>\n",
              "      <th>2016</th>\n",
              "      <td>609205.5980</td>\n",
              "    </tr>\n",
              "    <tr>\n",
              "      <th>2017</th>\n",
              "      <td>733215.2552</td>\n",
              "    </tr>\n",
              "  </tbody>\n",
              "</table>\n",
              "</div>"
            ],
            "text/plain": [
              "            Sales\n",
              "Year             \n",
              "2014  484247.4981\n",
              "2015  470532.5090\n",
              "2016  609205.5980\n",
              "2017  733215.2552"
            ]
          },
          "metadata": {
            "tags": []
          },
          "execution_count": 73
        }
      ]
    },
    {
      "cell_type": "code",
      "metadata": {
        "id": "BAr3Jc_KbqcL",
        "colab": {
          "base_uri": "https://localhost:8080/",
          "height": 328
        },
        "outputId": "9d90bf18-75ce-4362-de58-363409f915b0"
      },
      "source": [
        "#c\n",
        "new_dataset5.plot(kind='bar', color = 'g', width = 0.5, title = 'Sales per year')"
      ],
      "execution_count": 74,
      "outputs": [
        {
          "output_type": "execute_result",
          "data": {
            "text/plain": [
              "<matplotlib.axes._subplots.AxesSubplot at 0x7f7d21d62790>"
            ]
          },
          "metadata": {
            "tags": []
          },
          "execution_count": 74
        },
        {
          "output_type": "display_data",
          "data": {
            "image/png": "[encoded data removed]",
            "text/plain": [
              "<Figure size 432x288 with 1 Axes>"
            ]
          },
          "metadata": {
            "tags": [],
            "needs_background": "light"
          }
        }
      ]
    },
    {
      "cell_type": "code",
      "metadata": {
        "id": "K5VpPpP6bqcL",
        "colab": {
          "base_uri": "https://localhost:8080/"
        },
        "outputId": "5a01c801-69fc-4016-8c82-74a130b5453a"
      },
      "source": [
        "#d\n",
        "print(\"It is observed that asides from the drop in sales in the year 2015, there is a steady increment of 10,000 between the time period of 2014-2017.\")"
      ],
      "execution_count": 75,
      "outputs": [
        {
          "output_type": "stream",
          "text": [
            "It is observed that asides from the drop in sales in the year 2015, there is a steady increment of 10,000 between the time period of 2014-2017.\n"
          ],
          "name": "stdout"
        }
      ]
    },
    {
      "cell_type": "markdown",
      "metadata": {
        "id": "P47sAwpObqcL"
      },
      "source": [
        "### Task 6 : Finding out the monthly growth rate and analyse the findings\n",
        "* a. Create a column in the monthly revenue dataset for monthly growth rate\n",
        "* b. Find out the maximum monthly growth rate\n",
        "* c. Plot the findings\n",
        "* d. Describe the findings"
      ]
    },
    {
      "cell_type": "code",
      "metadata": {
        "id": "7MoInSwgbqcM"
      },
      "source": [
        "#a\n",
        "growth = list()\n",
        "growth.append(0)\n",
        "for i in range(len(new_dataset4.index)-1):\n",
        "    diff = new_dataset4['Sales'][i+1] - new_dataset4['Sales'][i]\n",
        "    growth.append(diff)\n",
        "new_dataset4['Growth'] = growth"
      ],
      "execution_count": 76,
      "outputs": []
    },
    {
      "cell_type": "code",
      "metadata": {
        "id": "CDTBwOBUbqcM",
        "colab": {
          "base_uri": "https://localhost:8080/"
        },
        "outputId": "86de2a37-b046-4d4c-fca1-4dac3f8400a0"
      },
      "source": [
        "#b\n",
        "new_dataset4['Growth'].max()"
      ],
      "execution_count": 77,
      "outputs": [
        {
          "output_type": "execute_result",
          "data": {
            "text/plain": [
              "53867.88229999998"
            ]
          },
          "metadata": {
            "tags": []
          },
          "execution_count": 77
        }
      ]
    },
    {
      "cell_type": "code",
      "metadata": {
        "id": "9Qjrd9WhbqcM",
        "colab": {
          "base_uri": "https://localhost:8080/",
          "height": 344
        },
        "outputId": "61709bd9-6179-49a2-b162-0a2c808b51dd"
      },
      "source": [
        "#c\n",
        "new_dataset4.plot(kind='bar', color = 'b', width = 0.3, title = 'Growth per month', y = 'Growth')"
      ],
      "execution_count": 78,
      "outputs": [
        {
          "output_type": "execute_result",
          "data": {
            "text/plain": [
              "<matplotlib.axes._subplots.AxesSubplot at 0x7f7d236e8b90>"
            ]
          },
          "metadata": {
            "tags": []
          },
          "execution_count": 78
        },
        {
          "output_type": "display_data",
          "data": {
            "image/png": "[encoded data removed]",
            "text/plain": [
              "<Figure size 432x288 with 1 Axes>"
            ]
          },
          "metadata": {
            "tags": [],
            "needs_background": "light"
          }
        }
      ]
    },
    {
      "cell_type": "code",
      "metadata": {
        "id": "sHXWK48EbqcM",
        "colab": {
          "base_uri": "https://localhost:8080/"
        },
        "outputId": "424cfec0-f763-4304-8a37-ffea092eabd0"
      },
      "source": [
        "#d\n",
        "print(\"The growth in revenue alternates between profit and loss  each month, although overall profit is larger than losses.\")"
      ],
      "execution_count": 79,
      "outputs": [
        {
          "output_type": "stream",
          "text": [
            "The growth in revenue alternates between profit and loss  each month, although overall profit is larger than losses.\n"
          ],
          "name": "stdout"
        }
      ]
    },
    {
      "cell_type": "markdown",
      "metadata": {
        "id": "CyJ5kbhHbqcN"
      },
      "source": [
        "### Task 7 : Finding out the most and least sold product id\n",
        "* a. Create a new dataset including the product ids and total quantities sold\n",
        "* b. Find out the most sold product from the created dataset for that id"
      ]
    },
    {
      "cell_type": "code",
      "metadata": {
        "id": "OFCttJAObqcN"
      },
      "source": [
        "#a\n",
        "new_dataset7 = pd.DataFrame()\n",
        "new_dataset7['Product ID'] = data['Product ID']\n",
        "new_dataset7['Quantity'] = data['Quantity']"
      ],
      "execution_count": 80,
      "outputs": []
    },
    {
      "cell_type": "code",
      "metadata": {
        "id": "maprLUbQbqcN",
        "colab": {
          "base_uri": "https://localhost:8080/"
        },
        "outputId": "d84541a7-6c6f-4e68-e695-c213a6aaf143"
      },
      "source": [
        "#b\n",
        "new_dataset7 = new_dataset7.groupby(['Product ID']).sum()\n",
        "print(new_dataset7[new_dataset7.Quantity == new_dataset7.Quantity.max()]) "
      ],
      "execution_count": 81,
      "outputs": [
        {
          "output_type": "stream",
          "text": [
            "                 Quantity\n",
            "Product ID               \n",
            "TEC-AC-10003832        75\n"
          ],
          "name": "stdout"
        }
      ]
    },
    {
      "cell_type": "markdown",
      "metadata": {
        "id": "HkvhekdVbqcN"
      },
      "source": [
        "### Task 8 : Finding out the customer who bought most and least from us in terms of quantity\n",
        "* a. Create a dataset containing name and quantities bought\n",
        "* b. Find out the customer name and quantity, who bought maximum in quantity"
      ]
    },
    {
      "cell_type": "code",
      "metadata": {
        "id": "VZeMB_v6bqcO",
        "colab": {
          "base_uri": "https://localhost:8080/",
          "height": 402
        },
        "outputId": "66e79cab-1c62-41ba-f7d8-cb4c3a75543d"
      },
      "source": [
        "#a\n",
        "new_dataset8 = pd.DataFrame()\n",
        "new_dataset8['Customer Name'] = data['Customer Name']\n",
        "new_dataset8['Quantity'] = data['Quantity']\n",
        "new_dataset8"
      ],
      "execution_count": 82,
      "outputs": [
        {
          "output_type": "execute_result",
          "data": {
            "text/html": [
              "<div>\n",
              "<style scoped>\n",
              "    .dataframe tbody tr th:only-of-type {\n",
              "        vertical-align: middle;\n",
              "    }\n",
              "\n",
              "    .dataframe tbody tr th {\n",
              "        vertical-align: top;\n",
              "    }\n",
              "\n",
              "    .dataframe thead th {\n",
              "        text-align: right;\n",
              "    }\n",
              "</style>\n",
              "<table border=\"1\" class=\"dataframe\">\n",
              "  <thead>\n",
              "    <tr style=\"text-align: right;\">\n",
              "      <th></th>\n",
              "      <th>Customer Name</th>\n",
              "      <th>Quantity</th>\n",
              "    </tr>\n",
              "  </thead>\n",
              "  <tbody>\n",
              "    <tr>\n",
              "      <th>0</th>\n",
              "      <td>Claire Gute</td>\n",
              "      <td>2</td>\n",
              "    </tr>\n",
              "    <tr>\n",
              "      <th>1</th>\n",
              "      <td>Claire Gute</td>\n",
              "      <td>3</td>\n",
              "    </tr>\n",
              "    <tr>\n",
              "      <th>2</th>\n",
              "      <td>Darrin Van Huff</td>\n",
              "      <td>2</td>\n",
              "    </tr>\n",
              "    <tr>\n",
              "      <th>3</th>\n",
              "      <td>Sean O'Donnell</td>\n",
              "      <td>5</td>\n",
              "    </tr>\n",
              "    <tr>\n",
              "      <th>4</th>\n",
              "      <td>Sean O'Donnell</td>\n",
              "      <td>2</td>\n",
              "    </tr>\n",
              "    <tr>\n",
              "      <th>...</th>\n",
              "      <td>...</td>\n",
              "      <td>...</td>\n",
              "    </tr>\n",
              "    <tr>\n",
              "      <th>9989</th>\n",
              "      <td>Tom Boeckenhauer</td>\n",
              "      <td>3</td>\n",
              "    </tr>\n",
              "    <tr>\n",
              "      <th>9990</th>\n",
              "      <td>Dave Brooks</td>\n",
              "      <td>2</td>\n",
              "    </tr>\n",
              "    <tr>\n",
              "      <th>9991</th>\n",
              "      <td>Dave Brooks</td>\n",
              "      <td>2</td>\n",
              "    </tr>\n",
              "    <tr>\n",
              "      <th>9992</th>\n",
              "      <td>Dave Brooks</td>\n",
              "      <td>4</td>\n",
              "    </tr>\n",
              "    <tr>\n",
              "      <th>9993</th>\n",
              "      <td>Chris Cortes</td>\n",
              "      <td>2</td>\n",
              "    </tr>\n",
              "  </tbody>\n",
              "</table>\n",
              "<p>9994 rows × 2 columns</p>\n",
              "</div>"
            ],
            "text/plain": [
              "         Customer Name  Quantity\n",
              "0          Claire Gute         2\n",
              "1          Claire Gute         3\n",
              "2      Darrin Van Huff         2\n",
              "3       Sean O'Donnell         5\n",
              "4       Sean O'Donnell         2\n",
              "...                ...       ...\n",
              "9989  Tom Boeckenhauer         3\n",
              "9990       Dave Brooks         2\n",
              "9991       Dave Brooks         2\n",
              "9992       Dave Brooks         4\n",
              "9993      Chris Cortes         2\n",
              "\n",
              "[9994 rows x 2 columns]"
            ]
          },
          "metadata": {
            "tags": []
          },
          "execution_count": 82
        }
      ]
    },
    {
      "cell_type": "code",
      "metadata": {
        "id": "JHwQwghVbqcO",
        "colab": {
          "base_uri": "https://localhost:8080/"
        },
        "outputId": "d23a0724-cbf6-41dc-f1e5-009777cf7ec7"
      },
      "source": [
        "#b\n",
        "maxquan = max(data['Quantity'])\n",
        "minquan = min(data['Quantity'])\n",
        "print(maxquan)\n",
        "print(minquan)"
      ],
      "execution_count": 83,
      "outputs": [
        {
          "output_type": "stream",
          "text": [
            "14\n",
            "1\n"
          ],
          "name": "stdout"
        }
      ]
    },
    {
      "cell_type": "code",
      "metadata": {
        "id": "mcctPXYzbqcO",
        "colab": {
          "base_uri": "https://localhost:8080/",
          "height": 906
        },
        "outputId": "300c4695-504f-4888-e446-d6d36dd711f3"
      },
      "source": [
        "#print(dataset_8['Customer Name'dataset_8.Quantity == dataset_8.Quantity.max()])\n",
        "maxppl=new_dataset8.loc[new_dataset8['Quantity']==maxquan]\n",
        "maxppl"
      ],
      "execution_count": 84,
      "outputs": [
        {
          "output_type": "execute_result",
          "data": {
            "text/html": [
              "<div>\n",
              "<style scoped>\n",
              "    .dataframe tbody tr th:only-of-type {\n",
              "        vertical-align: middle;\n",
              "    }\n",
              "\n",
              "    .dataframe tbody tr th {\n",
              "        vertical-align: top;\n",
              "    }\n",
              "\n",
              "    .dataframe thead th {\n",
              "        text-align: right;\n",
              "    }\n",
              "</style>\n",
              "<table border=\"1\" class=\"dataframe\">\n",
              "  <thead>\n",
              "    <tr style=\"text-align: right;\">\n",
              "      <th></th>\n",
              "      <th>Customer Name</th>\n",
              "      <th>Quantity</th>\n",
              "    </tr>\n",
              "  </thead>\n",
              "  <tbody>\n",
              "    <tr>\n",
              "      <th>113</th>\n",
              "      <td>Ryan Crowe</td>\n",
              "      <td>14</td>\n",
              "    </tr>\n",
              "    <tr>\n",
              "      <th>139</th>\n",
              "      <td>Lena Creighton</td>\n",
              "      <td>14</td>\n",
              "    </tr>\n",
              "    <tr>\n",
              "      <th>575</th>\n",
              "      <td>Trudy Glocke</td>\n",
              "      <td>14</td>\n",
              "    </tr>\n",
              "    <tr>\n",
              "      <th>660</th>\n",
              "      <td>Cassandra Brandow</td>\n",
              "      <td>14</td>\n",
              "    </tr>\n",
              "    <tr>\n",
              "      <th>1045</th>\n",
              "      <td>Steve Nguyen</td>\n",
              "      <td>14</td>\n",
              "    </tr>\n",
              "    <tr>\n",
              "      <th>1363</th>\n",
              "      <td>Ann Blume</td>\n",
              "      <td>14</td>\n",
              "    </tr>\n",
              "    <tr>\n",
              "      <th>1429</th>\n",
              "      <td>Damala Kotsonis</td>\n",
              "      <td>14</td>\n",
              "    </tr>\n",
              "    <tr>\n",
              "      <th>1433</th>\n",
              "      <td>Irene Maddox</td>\n",
              "      <td>14</td>\n",
              "    </tr>\n",
              "    <tr>\n",
              "      <th>1711</th>\n",
              "      <td>Jamie Kunitz</td>\n",
              "      <td>14</td>\n",
              "    </tr>\n",
              "    <tr>\n",
              "      <th>2793</th>\n",
              "      <td>Kean Nguyen</td>\n",
              "      <td>14</td>\n",
              "    </tr>\n",
              "    <tr>\n",
              "      <th>2947</th>\n",
              "      <td>Mike Pelletier</td>\n",
              "      <td>14</td>\n",
              "    </tr>\n",
              "    <tr>\n",
              "      <th>3441</th>\n",
              "      <td>Kelly Andreada</td>\n",
              "      <td>14</td>\n",
              "    </tr>\n",
              "    <tr>\n",
              "      <th>3902</th>\n",
              "      <td>Christopher Schild</td>\n",
              "      <td>14</td>\n",
              "    </tr>\n",
              "    <tr>\n",
              "      <th>5385</th>\n",
              "      <td>Chris Cortes</td>\n",
              "      <td>14</td>\n",
              "    </tr>\n",
              "    <tr>\n",
              "      <th>5646</th>\n",
              "      <td>Andrew Gjertsen</td>\n",
              "      <td>14</td>\n",
              "    </tr>\n",
              "    <tr>\n",
              "      <th>5668</th>\n",
              "      <td>Sanjit Engle</td>\n",
              "      <td>14</td>\n",
              "    </tr>\n",
              "    <tr>\n",
              "      <th>6131</th>\n",
              "      <td>Thomas Brumley</td>\n",
              "      <td>14</td>\n",
              "    </tr>\n",
              "    <tr>\n",
              "      <th>6488</th>\n",
              "      <td>Julia West</td>\n",
              "      <td>14</td>\n",
              "    </tr>\n",
              "    <tr>\n",
              "      <th>6499</th>\n",
              "      <td>Shirley Schmidt</td>\n",
              "      <td>14</td>\n",
              "    </tr>\n",
              "    <tr>\n",
              "      <th>6628</th>\n",
              "      <td>Giulietta Weimer</td>\n",
              "      <td>14</td>\n",
              "    </tr>\n",
              "    <tr>\n",
              "      <th>7387</th>\n",
              "      <td>Alejandro Grove</td>\n",
              "      <td>14</td>\n",
              "    </tr>\n",
              "    <tr>\n",
              "      <th>8074</th>\n",
              "      <td>Janet Martin</td>\n",
              "      <td>14</td>\n",
              "    </tr>\n",
              "    <tr>\n",
              "      <th>8521</th>\n",
              "      <td>Mark Packer</td>\n",
              "      <td>14</td>\n",
              "    </tr>\n",
              "    <tr>\n",
              "      <th>8935</th>\n",
              "      <td>Ben Peterman</td>\n",
              "      <td>14</td>\n",
              "    </tr>\n",
              "    <tr>\n",
              "      <th>9168</th>\n",
              "      <td>Sanjit Jacobs</td>\n",
              "      <td>14</td>\n",
              "    </tr>\n",
              "    <tr>\n",
              "      <th>9515</th>\n",
              "      <td>Delfina Latchford</td>\n",
              "      <td>14</td>\n",
              "    </tr>\n",
              "    <tr>\n",
              "      <th>9532</th>\n",
              "      <td>Ben Wallace</td>\n",
              "      <td>14</td>\n",
              "    </tr>\n",
              "    <tr>\n",
              "      <th>9941</th>\n",
              "      <td>John Lee</td>\n",
              "      <td>14</td>\n",
              "    </tr>\n",
              "    <tr>\n",
              "      <th>9979</th>\n",
              "      <td>Anne Pryor</td>\n",
              "      <td>14</td>\n",
              "    </tr>\n",
              "  </tbody>\n",
              "</table>\n",
              "</div>"
            ],
            "text/plain": [
              "           Customer Name  Quantity\n",
              "113           Ryan Crowe        14\n",
              "139       Lena Creighton        14\n",
              "575         Trudy Glocke        14\n",
              "660    Cassandra Brandow        14\n",
              "1045        Steve Nguyen        14\n",
              "1363           Ann Blume        14\n",
              "1429     Damala Kotsonis        14\n",
              "1433        Irene Maddox        14\n",
              "1711        Jamie Kunitz        14\n",
              "2793         Kean Nguyen        14\n",
              "2947      Mike Pelletier        14\n",
              "3441      Kelly Andreada        14\n",
              "3902  Christopher Schild        14\n",
              "5385        Chris Cortes        14\n",
              "5646     Andrew Gjertsen        14\n",
              "5668        Sanjit Engle        14\n",
              "6131      Thomas Brumley        14\n",
              "6488          Julia West        14\n",
              "6499     Shirley Schmidt        14\n",
              "6628    Giulietta Weimer        14\n",
              "7387     Alejandro Grove        14\n",
              "8074        Janet Martin        14\n",
              "8521         Mark Packer        14\n",
              "8935        Ben Peterman        14\n",
              "9168       Sanjit Jacobs        14\n",
              "9515   Delfina Latchford        14\n",
              "9532         Ben Wallace        14\n",
              "9941            John Lee        14\n",
              "9979          Anne Pryor        14"
            ]
          },
          "metadata": {
            "tags": []
          },
          "execution_count": 84
        }
      ]
    },
    {
      "cell_type": "code",
      "metadata": {
        "id": "z5GWSsZkbqcO",
        "colab": {
          "base_uri": "https://localhost:8080/",
          "height": 402
        },
        "outputId": "37dab55f-6544-41f1-9e42-aee581da2435"
      },
      "source": [
        "minppl=new_dataset8.loc[new_dataset8['Quantity']==minquan]\n",
        "minppl"
      ],
      "execution_count": 85,
      "outputs": [
        {
          "output_type": "execute_result",
          "data": {
            "text/html": [
              "<div>\n",
              "<style scoped>\n",
              "    .dataframe tbody tr th:only-of-type {\n",
              "        vertical-align: middle;\n",
              "    }\n",
              "\n",
              "    .dataframe tbody tr th {\n",
              "        vertical-align: top;\n",
              "    }\n",
              "\n",
              "    .dataframe thead th {\n",
              "        text-align: right;\n",
              "    }\n",
              "</style>\n",
              "<table border=\"1\" class=\"dataframe\">\n",
              "  <thead>\n",
              "    <tr style=\"text-align: right;\">\n",
              "      <th></th>\n",
              "      <th>Customer Name</th>\n",
              "      <th>Quantity</th>\n",
              "    </tr>\n",
              "  </thead>\n",
              "  <tbody>\n",
              "    <tr>\n",
              "      <th>52</th>\n",
              "      <td>Darren Powers</td>\n",
              "      <td>1</td>\n",
              "    </tr>\n",
              "    <tr>\n",
              "      <th>61</th>\n",
              "      <td>Ted Butterfield</td>\n",
              "      <td>1</td>\n",
              "    </tr>\n",
              "    <tr>\n",
              "      <th>70</th>\n",
              "      <td>Henry MacAllister</td>\n",
              "      <td>1</td>\n",
              "    </tr>\n",
              "    <tr>\n",
              "      <th>74</th>\n",
              "      <td>Joel Eaton</td>\n",
              "      <td>1</td>\n",
              "    </tr>\n",
              "    <tr>\n",
              "      <th>79</th>\n",
              "      <td>Stewart Carmichael</td>\n",
              "      <td>1</td>\n",
              "    </tr>\n",
              "    <tr>\n",
              "      <th>...</th>\n",
              "      <td>...</td>\n",
              "      <td>...</td>\n",
              "    </tr>\n",
              "    <tr>\n",
              "      <th>9964</th>\n",
              "      <td>Harold Engle</td>\n",
              "      <td>1</td>\n",
              "    </tr>\n",
              "    <tr>\n",
              "      <th>9965</th>\n",
              "      <td>Harold Engle</td>\n",
              "      <td>1</td>\n",
              "    </tr>\n",
              "    <tr>\n",
              "      <th>9980</th>\n",
              "      <td>Shaun Weien</td>\n",
              "      <td>1</td>\n",
              "    </tr>\n",
              "    <tr>\n",
              "      <th>9986</th>\n",
              "      <td>Maris LaWare</td>\n",
              "      <td>1</td>\n",
              "    </tr>\n",
              "    <tr>\n",
              "      <th>9987</th>\n",
              "      <td>Ruben Ausman</td>\n",
              "      <td>1</td>\n",
              "    </tr>\n",
              "  </tbody>\n",
              "</table>\n",
              "<p>899 rows × 2 columns</p>\n",
              "</div>"
            ],
            "text/plain": [
              "           Customer Name  Quantity\n",
              "52         Darren Powers         1\n",
              "61       Ted Butterfield         1\n",
              "70     Henry MacAllister         1\n",
              "74            Joel Eaton         1\n",
              "79    Stewart Carmichael         1\n",
              "...                  ...       ...\n",
              "9964        Harold Engle         1\n",
              "9965        Harold Engle         1\n",
              "9980         Shaun Weien         1\n",
              "9986        Maris LaWare         1\n",
              "9987        Ruben Ausman         1\n",
              "\n",
              "[899 rows x 2 columns]"
            ]
          },
          "metadata": {
            "tags": []
          },
          "execution_count": 85
        }
      ]
    },
    {
      "cell_type": "markdown",
      "metadata": {
        "id": "FNdP_9DKbqcO"
      },
      "source": [
        "### Task 9 : Finding out the customer who bought most and least from us in terms of value\n",
        "* a. Create a dataset containing name and sales generated by him\n",
        "* b. Find out the customer name and sales, who bought maximum in value"
      ]
    },
    {
      "cell_type": "code",
      "metadata": {
        "id": "CWqSEbxUbqcP"
      },
      "source": [
        "#a\n",
        "new_dataset9 = pd.DataFrame()\n",
        "new_dataset9['Customer Name'] = data['Customer Name']\n",
        "new_dataset9['Sales'] = data['Sales']"
      ],
      "execution_count": 86,
      "outputs": []
    },
    {
      "cell_type": "code",
      "metadata": {
        "id": "184YRNkpbqcP",
        "colab": {
          "base_uri": "https://localhost:8080/"
        },
        "outputId": "74049890-1015-44af-db67-ecb2765a6976"
      },
      "source": [
        "#b\n",
        "new_dataset9 = new_dataset9.groupby(['Customer Name']).sum()\n",
        "print(new_dataset9[new_dataset9.Sales == new_dataset9.Sales.max()]) \n",
        "print(new_dataset9[new_dataset9.Sales == new_dataset9.Sales.min()])"
      ],
      "execution_count": 87,
      "outputs": [
        {
          "output_type": "stream",
          "text": [
            "                  Sales\n",
            "Customer Name          \n",
            "Sean Miller    25043.05\n",
            "               Sales\n",
            "Customer Name       \n",
            "Thais Sissman  4.833\n"
          ],
          "name": "stdout"
        }
      ]
    },
    {
      "cell_type": "markdown",
      "metadata": {
        "id": "CQmFHNhjbqcP"
      },
      "source": [
        "### Task 10 : Finding out the majority and minority customer cities on basis of\n",
        "* a. Number of customers\n",
        "* b. Sales value\n",
        "* c. Number of quantity sold"
      ]
    },
    {
      "cell_type": "code",
      "metadata": {
        "id": "O-iiuoiqbqcP",
        "colab": {
          "base_uri": "https://localhost:8080/"
        },
        "outputId": "c2921824-a4cf-419d-db1d-8f67418ba152"
      },
      "source": [
        "#a\n",
        "new_dataset10a = pd.DataFrame()\n",
        "new_dataset10a['City'] = data['City']\n",
        "new_dataset10a['Customers']=1\n",
        "new_dataset10a = new_dataset10a.groupby(['City']).sum()\n",
        "print(new_dataset10a[new_dataset10a.Customers == new_dataset10a.Customers.max()]) \n",
        "print(new_dataset10a[new_dataset10a.Customers == new_dataset10a.Customers.min()])"
      ],
      "execution_count": 88,
      "outputs": [
        {
          "output_type": "stream",
          "text": [
            "               Customers\n",
            "City                    \n",
            "New York City        915\n",
            "                   Customers\n",
            "City                        \n",
            "Aberdeen                   1\n",
            "Abilene                    1\n",
            "Antioch                    1\n",
            "Arlington Heights          1\n",
            "Atlantic City              1\n",
            "...                      ...\n",
            "Vacaville                  1\n",
            "Waterloo                   1\n",
            "Waukesha                   1\n",
            "Whittier                   1\n",
            "Yucaipa                    1\n",
            "\n",
            "[70 rows x 1 columns]\n"
          ],
          "name": "stdout"
        }
      ]
    },
    {
      "cell_type": "code",
      "metadata": {
        "id": "7w0DZeJubqcP",
        "colab": {
          "base_uri": "https://localhost:8080/"
        },
        "outputId": "5a9d9858-5c4f-48a8-ce43-f6054a1f150d"
      },
      "source": [
        "#b\n",
        "new_dataset10b = pd.DataFrame()\n",
        "new_dataset10b['City'] = data['City']\n",
        "new_dataset10b['Sales'] = data['Sales']\n",
        "new_dataset10b = new_dataset10b.groupby(['City']).sum()\n",
        "print(new_dataset10b[new_dataset10b.Sales == new_dataset10b.Sales.max()]) \n",
        "print(new_dataset10b[new_dataset10b.Sales == new_dataset10b.Sales.min()])"
      ],
      "execution_count": 89,
      "outputs": [
        {
          "output_type": "stream",
          "text": [
            "                    Sales\n",
            "City                     \n",
            "New York City  256368.161\n",
            "         Sales\n",
            "City          \n",
            "Abilene  1.392\n"
          ],
          "name": "stdout"
        }
      ]
    },
    {
      "cell_type": "code",
      "metadata": {
        "id": "invYehmpbqcQ",
        "colab": {
          "base_uri": "https://localhost:8080/"
        },
        "outputId": "1aeda327-7119-4468-d676-88fc582aa739"
      },
      "source": [
        "#c\n",
        "new_dataset10c = pd.DataFrame()\n",
        "new_dataset10c['City'] = data['City']\n",
        "new_dataset10c['Quantity'] = data['Quantity']\n",
        "new_dataset10c = new_dataset10c.groupby(['City']).sum()\n",
        "print(new_dataset10c[new_dataset10c.Quantity == new_dataset10c.Quantity.max()]) \n",
        "print(new_dataset10c[new_dataset10c.Quantity == new_dataset10c.Quantity.min()])"
      ],
      "execution_count": 90,
      "outputs": [
        {
          "output_type": "stream",
          "text": [
            "               Quantity\n",
            "City                   \n",
            "New York City      3417\n",
            "             Quantity\n",
            "City                 \n",
            "Elyria              1\n",
            "Iowa City           1\n",
            "Jupiter             1\n",
            "Lindenhurst         1\n",
            "Littleton           1\n",
            "Port Orange         1\n"
          ],
          "name": "stdout"
        }
      ]
    },
    {
      "cell_type": "markdown",
      "metadata": {
        "id": "T43Tmo_ibqcQ"
      },
      "source": [
        "### Task 11 : Find out the most and least sold product category from the store\n",
        "* a. Value based\n",
        "* b. Quantity based"
      ]
    },
    {
      "cell_type": "code",
      "metadata": {
        "id": "dJA9poW-bqcQ",
        "colab": {
          "base_uri": "https://localhost:8080/"
        },
        "outputId": "1e58af00-e88d-4dc8-d09a-d6e7ede64eea"
      },
      "source": [
        "#a\n",
        "new_dataset11a = pd.DataFrame()\n",
        "new_dataset11a['Category'] = data['Category']\n",
        "new_dataset11a['Sales'] = data['Sales']\n",
        "new_dataset11a = new_dataset11a.groupby(['Category']).sum()\n",
        "print(new_dataset11a[new_dataset11a.Sales == new_dataset11a.Sales.max()]) \n",
        "print(new_dataset11a[new_dataset11a.Sales == new_dataset11a.Sales.min()])"
      ],
      "execution_count": 91,
      "outputs": [
        {
          "output_type": "stream",
          "text": [
            "                 Sales\n",
            "Category              \n",
            "Technology  836154.033\n",
            "                      Sales\n",
            "Category                   \n",
            "Office Supplies  719047.032\n"
          ],
          "name": "stdout"
        }
      ]
    },
    {
      "cell_type": "code",
      "metadata": {
        "id": "gbf-7ZkPbqcQ",
        "colab": {
          "base_uri": "https://localhost:8080/"
        },
        "outputId": "d7aac04b-b3c1-4983-ef6a-ed4a48252605"
      },
      "source": [
        "#b\n",
        "new_dataset11b = pd.DataFrame()\n",
        "new_dataset11b['Category'] = data['Category']\n",
        "new_dataset11b['Quantity'] = data['Quantity']\n",
        "new_dataset11b = new_dataset11b.groupby(['Category']).sum()\n",
        "print(new_dataset11b[new_dataset11b.Quantity == new_dataset11b.Quantity.max()]) \n",
        "print(new_dataset11b[new_dataset11b.Quantity == new_dataset11b.Quantity.min()])"
      ],
      "execution_count": 92,
      "outputs": [
        {
          "output_type": "stream",
          "text": [
            "                 Quantity\n",
            "Category                 \n",
            "Office Supplies     22906\n",
            "            Quantity\n",
            "Category            \n",
            "Technology      6939\n"
          ],
          "name": "stdout"
        }
      ]
    },
    {
      "cell_type": "markdown",
      "metadata": {
        "id": "rMCqSOVqbqcQ"
      },
      "source": [
        "### Task 12 : Find out the most and least sold product sub category from the store\n",
        "* a. Value based\n",
        "* b. Quantity based"
      ]
    },
    {
      "cell_type": "code",
      "metadata": {
        "id": "Exdw5s5MbqcR",
        "colab": {
          "base_uri": "https://localhost:8080/"
        },
        "outputId": "bb7c4f70-7db1-460f-e605-d77f0bba07cf"
      },
      "source": [
        "#a\n",
        "new_dataset12a = pd.DataFrame()\n",
        "new_dataset12a['Sub-Category'] = data['Sub-Category']\n",
        "new_dataset12a['Sales'] = data['Sales']\n",
        "new_dataset12a = new_dataset12a.groupby(['Sub-Category']).sum()\n",
        "print(new_dataset12a[new_dataset12a.Sales == new_dataset12a.Sales.max()]) \n",
        "print(new_dataset12a[new_dataset12a.Sales == new_dataset12a.Sales.min()])"
      ],
      "execution_count": 93,
      "outputs": [
        {
          "output_type": "stream",
          "text": [
            "                   Sales\n",
            "Sub-Category            \n",
            "Phones        330007.054\n",
            "                Sales\n",
            "Sub-Category         \n",
            "Fasteners     3024.28\n"
          ],
          "name": "stdout"
        }
      ]
    },
    {
      "cell_type": "code",
      "metadata": {
        "id": "4Usfqe6lbqcR",
        "colab": {
          "base_uri": "https://localhost:8080/"
        },
        "outputId": "7c099e8e-0892-47fd-f0c3-d1716a35aa7b"
      },
      "source": [
        "#b\n",
        "new_dataset12b = pd.DataFrame()\n",
        "new_dataset12b['Sub-Category'] = data['Sub-Category']\n",
        "new_dataset12b['Quantity'] = data['Quantity']\n",
        "new_dataset12b = new_dataset12b.groupby(['Sub-Category']).sum()\n",
        "print(new_dataset12b[new_dataset12b.Quantity == new_dataset12b.Quantity.max()]) \n",
        "print(new_dataset12b[new_dataset12b.Quantity == new_dataset12b.Quantity.min()])"
      ],
      "execution_count": 94,
      "outputs": [
        {
          "output_type": "stream",
          "text": [
            "              Quantity\n",
            "Sub-Category          \n",
            "Binders           5974\n",
            "              Quantity\n",
            "Sub-Category          \n",
            "Copiers            234\n"
          ],
          "name": "stdout"
        }
      ]
    }
  ]
}